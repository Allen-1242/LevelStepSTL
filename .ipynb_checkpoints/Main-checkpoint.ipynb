{
 "cells": [
  {
   "cell_type": "code",
   "execution_count": 1,
   "id": "de4a6e40-bccf-4e3e-960a-2db8e78d306b",
   "metadata": {},
   "outputs": [],
   "source": [
    "#Temp testing "
   ]
  },
  {
   "cell_type": "code",
   "execution_count": null,
   "id": "901da29c-e937-4777-805a-6db529782242",
   "metadata": {},
   "outputs": [],
   "source": []
  },
  {
   "cell_type": "code",
   "execution_count": 5,
   "id": "fda4469d-744b-4cae-a46b-f928a06d3b81",
   "metadata": {},
   "outputs": [],
   "source": [
    "import pandas as pd\n",
    "import matplotlib.pyplot as plt\n",
    "from matplotlib.dates import HourLocator, DayLocator, DateFormatter\n",
    "from statsmodels.nonparametric.smoothers_lowess import lowess"
   ]
  },
  {
   "cell_type": "code",
   "execution_count": 16,
   "id": "fbdd81bf-d41e-4dd3-9f9f-a6bf9a63c3b4",
   "metadata": {},
   "outputs": [
    {
     "ename": "ModuleNotFoundError",
     "evalue": "No module named 'seaborn'",
     "output_type": "error",
     "traceback": [
      "\u001b[1;31m---------------------------------------------------------------------------\u001b[0m",
      "\u001b[1;31mModuleNotFoundError\u001b[0m                       Traceback (most recent call last)",
      "Input \u001b[1;32mIn [16]\u001b[0m, in \u001b[0;36m<cell line: 1>\u001b[1;34m()\u001b[0m\n\u001b[1;32m----> 1\u001b[0m \u001b[38;5;28;01mimport\u001b[39;00m \u001b[38;5;21;01mseaborn\u001b[39;00m \u001b[38;5;28;01mas\u001b[39;00m \u001b[38;5;21;01msns\u001b[39;00m\n",
      "\u001b[1;31mModuleNotFoundError\u001b[0m: No module named 'seaborn'"
     ]
    }
   ],
   "source": [
    "import seaborn as sns"
   ]
  },
  {
   "cell_type": "code",
   "execution_count": 14,
   "id": "2722e3fa-8802-4a86-842f-fb3de07de496",
   "metadata": {},
   "outputs": [],
   "source": [
    "import numpy as np"
   ]
  },
  {
   "cell_type": "code",
   "execution_count": 8,
   "id": "f44ba1fb-7966-4c35-949d-691703d981cf",
   "metadata": {},
   "outputs": [],
   "source": [
    "temp = list[2,4,3,2]"
   ]
  },
  {
   "cell_type": "code",
   "execution_count": 12,
   "id": "d65810cf-9249-4dfd-b504-d00f0b705f06",
   "metadata": {},
   "outputs": [
    {
     "ename": "TypeError",
     "evalue": "lowess() missing 1 required positional argument: 'exog'",
     "output_type": "error",
     "traceback": [
      "\u001b[1;31m---------------------------------------------------------------------------\u001b[0m",
      "\u001b[1;31mTypeError\u001b[0m                                 Traceback (most recent call last)",
      "Input \u001b[1;32mIn [12]\u001b[0m, in \u001b[0;36m<cell line: 1>\u001b[1;34m()\u001b[0m\n\u001b[1;32m----> 1\u001b[0m \u001b[43mlowess\u001b[49m\u001b[43m(\u001b[49m\u001b[43mtemp\u001b[49m\u001b[43m)\u001b[49m\n",
      "\u001b[1;31mTypeError\u001b[0m: lowess() missing 1 required positional argument: 'exog'"
     ]
    }
   ],
   "source": [
    "lowess(temp)"
   ]
  },
  {
   "cell_type": "code",
   "execution_count": 29,
   "id": "30063fab-b4fe-4a84-9fb2-69de2c395733",
   "metadata": {
    "tags": []
   },
   "outputs": [
    {
     "name": "stderr",
     "output_type": "stream",
     "text": [
      "C:\\Users\\sunny\\anaconda3\\envs\\Py_39\\lib\\site-packages\\statsmodels\\nonparametric\\smoothers_lowess.py:227: RuntimeWarning: invalid value encountered in true_divide\n",
      "  res, _ = _lowess(y, x, x, np.ones_like(x),\n"
     ]
    }
   ],
   "source": [
    "# Generate data looking like cosine\n",
    "y = np.random.uniform(0, 4 * np.pi, size=200)\n",
    "x = np.random.uniform(0, 0, size=200)\n",
    "\n",
    "# Compute a lowess smoothing of the data\n",
    "smoothed = sm.nonparametric.lowess(exog=x, endog=y, frac=0.2)"
   ]
  },
  {
   "cell_type": "code",
   "execution_count": 17,
   "id": "0a44a918-13e9-4ecd-82fd-28467d8f0e15",
   "metadata": {},
   "outputs": [],
   "source": [
    "import numpy as np\n",
    "import pylab\n",
    "import seaborn as sns\n",
    "import statsmodels.api as sm\n",
    "\n",
    "sns.set_style(\"darkgrid\")\n",
    "pylab.rc(\"figure\", figsize=(16, 8))\n",
    "pylab.rc(\"font\", size=14)"
   ]
  },
  {
   "cell_type": "code",
   "execution_count": 30,
   "id": "8c6a91c0-ed4c-43d5-a46a-b819af7157ec",
   "metadata": {
    "collapsed": true,
    "jupyter": {
     "outputs_hidden": true
    },
    "tags": []
   },
   "outputs": [
    {
     "data": {
      "image/png": "[encoded data removed]",
      "text/plain": [
       "<Figure size 1152x576 with 1 Axes>"
      ]
     },
     "metadata": {},
     "output_type": "display_data"
    }
   ],
   "source": [
    "fig, ax = pylab.subplots()\n",
    "\n",
    "ax.scatter(x, y)\n",
    "ax.plot(smoothed[:, 0], smoothed[:, 1], c=\"k\")\n",
    "pylab.autoscale(enable=True, axis=\"x\", tight=True)"
   ]
  },
  {
   "cell_type": "code",
   "execution_count": 31,
   "id": "009c1400-48fd-431e-9d12-054c767cd5b6",
   "metadata": {},
   "outputs": [],
   "source": [
    "#Have multiple smoothening functions written in "
   ]
  }
 ],
 "metadata": {
  "kernelspec": {
   "display_name": "Python 3 (ipykernel)",
   "language": "python",
   "name": "python3"
  },
  "language_info": {
   "codemirror_mode": {
    "name": "ipython",
    "version": 3
   },
   "file_extension": ".py",
   "mimetype": "text/x-python",
   "name": "python",
   "nbconvert_exporter": "python",
   "pygments_lexer": "ipython3",
   "version": "3.10.5"
  }
 },
 "nbformat": 4,
 "nbformat_minor": 5
}
